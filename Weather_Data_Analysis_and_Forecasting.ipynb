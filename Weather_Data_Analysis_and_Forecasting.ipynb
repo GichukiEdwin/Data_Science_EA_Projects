{
 "cells": [
  {
   "cell_type": "markdown",
   "metadata": {},
   "source": [
    "# **Capstone Project - Weather Data Analysis and Forecasting for Different Regions in the Country**\n",
    "\n",
    "---\n",
    "\n",
    "### Problem Statement\n",
    "#### 1. Collect weather data from [OpenWeatherMap API](https://openweathermap.org/) and [Weather API](https://www.weatherapi.com/) for different regions in Kenya\n",
    "#### 2. Store it in a database of your choice (relational or non-relational)\n",
    "#### 3. Analyze weather patterns using Python.\n",
    "\n",
    "##### The goal is to derive insights into temperature trends, rainfall patterns, and other weather variables across different regions.\n",
    "\n",
    "##### These insights can help users make informed decisions for weather-sensitive activities, such as agriculture, tourism, and outdoor events.\n",
    "\n",
    "---"
   ]
  },
  {
   "cell_type": "code",
   "execution_count": 10,
   "metadata": {},
   "outputs": [],
   "source": [
    "import numpy as np\n",
    "import pandas as pd\n",
    "import seaborn as sns\n",
    "import matplotlib.pyplot as plt\n",
    "import os\n",
    "import json\n",
    "import time\n",
    "import requests\n",
    "from sqlalchemy import create_engine\n",
    "from dotenv import load_dotenv"
   ]
  },
  {
   "cell_type": "code",
   "execution_count": 11,
   "metadata": {},
   "outputs": [
    {
     "name": "stdout",
     "output_type": "stream",
     "text": [
      "Failed to get data for Tana River:404\n",
      "Failed to get data for Taita-Taveta:404\n",
      "Failed to get data for Tharaka-Nithi:404\n",
      "Failed to get data for Nyandarua:404\n",
      "Failed to get data for Kirinyaga:404\n",
      "Failed to get data for Turkana:404\n",
      "Failed to get data for West Pokot:404\n",
      "Failed to get data for Samburu:404\n",
      "Failed to get data for Trans-Nzoia:404\n",
      "Failed to get data for Uasin Gishu:404\n",
      "Failed to get data for Elgeyo-Marakwet:404\n",
      "Failed to get data for Laikipia:404\n",
      "Failed to get data for Busia:404\n",
      "Data stored successfully.\n"
     ]
    }
   ],
   "source": [
    "\n",
    "#? load environmental variables from a dotenv file\n",
    "load_dotenv()\n",
    "api_key=os.getenv('API_KEY') #? get API key\n",
    "database_url=os.getenv('DATABASE_URL') #? get database URL\n",
    "db_url=f'postgresql+psycopg2://{database_url}' #? format database connection string\n",
    "\n",
    "#? load county data from JSON file and extract the city names\n",
    "with open('data/counties.json','r') as f:\n",
    "    counties=json.load(f)\n",
    "\n",
    "#? list of cities for data collection\n",
    "cities=[county['name'] for county in counties]\n",
    "\n",
    "#? set unit for temperature in Celsius\n",
    "unit='metric' \n",
    "\n",
    "base_url='https://api.openweathermap.org/data/2.5/weather' #? base URL for OpenWeatherMap API\n",
    "\n",
    "def get_weather_openweathermap(city):\n",
    "    url=f'{base_url}?q={city},KE&appid={api_key}&units={unit}'\n",
    "    response=requests.get(url)\n",
    "\n",
    "    if response.status_code==200:\n",
    "        data=response.json()\n",
    "        return data\n",
    "    else:\n",
    "        print(f'Failed to get data for {city}:{response.status_code}')\n",
    "        return None\n",
    "\n",
    "def collect_and_store_weather_data(cities):\n",
    "    weather_data_list=[] #? list to store data for each city\n",
    "    \n",
    "    for city in cities:\n",
    "        data=get_weather_openweathermap(city) #? fetch weather data for each city\n",
    "        if data:\n",
    "            #? extract relevant weather information\n",
    "            weather_info={\n",
    "                'city':data['name'],\n",
    "                'country':data['sys']['country'],\n",
    "                'latitude':data['coord']['lat'],\n",
    "                'longitude':data['coord']['lon'],\n",
    "                'temperature':data['main']['temp'],\n",
    "                'humidity':data['main']['humidity'],\n",
    "                'pressure':data['main']['pressure'],\n",
    "                'wind_speed':data['wind']['speed'],\n",
    "                'visibility':data['visibility'],\n",
    "                'rain':data['rain']['1h'] if 'rain' in data and '1h' in data['rain'] else 0,\n",
    "                'clouds':data['clouds']['all'],\n",
    "                'sunrise':pd.to_datetime(data['sys']['sunrise'],unit='s',utc=True),\n",
    "                'sunset':pd.to_datetime(data['sys']['sunset'],unit='s',utc=True),\n",
    "                'weather_condition':data['weather'][0]['main'],\n",
    "                'weather_description':data['weather'][0]['description'],\n",
    "                'datetime':pd.to_datetime(data['dt'],unit='s',utc=True)\n",
    "            }\n",
    "\n",
    "            weather_data_list.append(weather_info) #? add weather information to the list\n",
    "\n",
    "        time.sleep(1) #? wait for 1 second before fetching the next city(API rate limit)\n",
    "\n",
    "\n",
    "    if weather_data_list:\n",
    "        df=pd.DataFrame(weather_data_list) #? convert list to dataframe\n",
    "\n",
    "        engine=create_engine(db_url) #? create database engine\n",
    "\n",
    "        #? store weather data in the database\n",
    "        df.to_sql('weather_data',engine,if_exists='append',index=False)\n",
    "        print('Data stored successfully.')\n",
    "\n",
    "        #? store weather data in a CSV file\n",
    "        csv_file='weather_data.csv'\n",
    "        if not os.path.exists(csv_file):\n",
    "            #? write with headers if it's a new file\n",
    "            df.to_csv(csv_file, mode='w', header=True, index=False)\n",
    "        else:\n",
    "             #? append without headers if file exists\n",
    "             df.to_csv(csv_file, mode='a', header=False, index=False)\n",
    "    else:\n",
    "        print('No data to store.')\n",
    "\n",
    "collect_and_store_weather_data(cities)"
   ]
  },
  {
   "cell_type": "code",
   "execution_count": 18,
   "metadata": {},
   "outputs": [
    {
     "name": "stderr",
     "output_type": "stream",
     "text": [
      "C:\\Users\\user\\AppData\\Local\\Temp\\ipykernel_5760\\3594628356.py:1: FutureWarning: The argument 'date_parser' is deprecated and will be removed in a future version. Please use 'date_format' instead, or read your data in as 'object' dtype and then call 'to_datetime'.\n",
      "  df=pd.read_csv('data/weather_data.csv',parse_dates=['datetime','sunrise','sunset'],date_parser=pd.to_datetime)\n"
     ]
    },
    {
     "data": {
      "text/plain": [
       "(34, 16)"
      ]
     },
     "execution_count": 18,
     "metadata": {},
     "output_type": "execute_result"
    }
   ],
   "source": [
    "df=pd.read_csv('data/weather_data.csv',parse_dates=['datetime','sunrise','sunset'],date_parser=pd.to_datetime)\n",
    "df.shape"
   ]
  },
  {
   "cell_type": "code",
   "execution_count": 19,
   "metadata": {},
   "outputs": [
    {
     "data": {
      "text/html": [
       "<div>\n",
       "<style scoped>\n",
       "    .dataframe tbody tr th:only-of-type {\n",
       "        vertical-align: middle;\n",
       "    }\n",
       "\n",
       "    .dataframe tbody tr th {\n",
       "        vertical-align: top;\n",
       "    }\n",
       "\n",
       "    .dataframe thead th {\n",
       "        text-align: right;\n",
       "    }\n",
       "</style>\n",
       "<table border=\"1\" class=\"dataframe\">\n",
       "  <thead>\n",
       "    <tr style=\"text-align: right;\">\n",
       "      <th></th>\n",
       "      <th>city</th>\n",
       "      <th>country</th>\n",
       "      <th>latitude</th>\n",
       "      <th>longitude</th>\n",
       "      <th>temperature</th>\n",
       "      <th>humidity</th>\n",
       "      <th>pressure</th>\n",
       "      <th>wind_speed</th>\n",
       "      <th>visibility</th>\n",
       "      <th>rain</th>\n",
       "      <th>clouds</th>\n",
       "      <th>sunrise</th>\n",
       "      <th>sunset</th>\n",
       "      <th>weather_condition</th>\n",
       "      <th>weather_description</th>\n",
       "      <th>datetime</th>\n",
       "    </tr>\n",
       "  </thead>\n",
       "  <tbody>\n",
       "    <tr>\n",
       "      <th>0</th>\n",
       "      <td>Mombasa</td>\n",
       "      <td>KE</td>\n",
       "      <td>-4.0547</td>\n",
       "      <td>39.6636</td>\n",
       "      <td>24.92</td>\n",
       "      <td>86</td>\n",
       "      <td>1016</td>\n",
       "      <td>5.91</td>\n",
       "      <td>10000</td>\n",
       "      <td>0.22</td>\n",
       "      <td>2</td>\n",
       "      <td>2024-10-11 03:02:28+00:00</td>\n",
       "      <td>2024-10-11 15:13:15+00:00</td>\n",
       "      <td>Rain</td>\n",
       "      <td>light rain</td>\n",
       "      <td>2024-10-11 17:00:37+00:00</td>\n",
       "    </tr>\n",
       "    <tr>\n",
       "      <th>1</th>\n",
       "      <td>Kwale</td>\n",
       "      <td>KE</td>\n",
       "      <td>-4.1738</td>\n",
       "      <td>39.4521</td>\n",
       "      <td>21.48</td>\n",
       "      <td>89</td>\n",
       "      <td>1016</td>\n",
       "      <td>3.69</td>\n",
       "      <td>10000</td>\n",
       "      <td>0.00</td>\n",
       "      <td>2</td>\n",
       "      <td>2024-10-11 03:03:16+00:00</td>\n",
       "      <td>2024-10-11 15:14:10+00:00</td>\n",
       "      <td>Clear</td>\n",
       "      <td>clear sky</td>\n",
       "      <td>2024-10-11 17:01:10+00:00</td>\n",
       "    </tr>\n",
       "    <tr>\n",
       "      <th>2</th>\n",
       "      <td>Kilifi</td>\n",
       "      <td>KE</td>\n",
       "      <td>-3.6305</td>\n",
       "      <td>39.8499</td>\n",
       "      <td>25.07</td>\n",
       "      <td>86</td>\n",
       "      <td>1015</td>\n",
       "      <td>6.49</td>\n",
       "      <td>10000</td>\n",
       "      <td>0.00</td>\n",
       "      <td>1</td>\n",
       "      <td>2024-10-11 03:01:57+00:00</td>\n",
       "      <td>2024-10-11 15:12:18+00:00</td>\n",
       "      <td>Clear</td>\n",
       "      <td>clear sky</td>\n",
       "      <td>2024-10-11 17:01:12+00:00</td>\n",
       "    </tr>\n",
       "    <tr>\n",
       "      <th>3</th>\n",
       "      <td>Lamu</td>\n",
       "      <td>KE</td>\n",
       "      <td>-2.2717</td>\n",
       "      <td>40.9020</td>\n",
       "      <td>25.29</td>\n",
       "      <td>87</td>\n",
       "      <td>1015</td>\n",
       "      <td>6.90</td>\n",
       "      <td>10000</td>\n",
       "      <td>0.00</td>\n",
       "      <td>8</td>\n",
       "      <td>2024-10-11 02:58:25+00:00</td>\n",
       "      <td>2024-10-11 15:07:24+00:00</td>\n",
       "      <td>Clear</td>\n",
       "      <td>clear sky</td>\n",
       "      <td>2024-10-11 17:01:18+00:00</td>\n",
       "    </tr>\n",
       "    <tr>\n",
       "      <th>4</th>\n",
       "      <td>Garissa</td>\n",
       "      <td>KE</td>\n",
       "      <td>-0.4536</td>\n",
       "      <td>39.6401</td>\n",
       "      <td>28.62</td>\n",
       "      <td>52</td>\n",
       "      <td>1012</td>\n",
       "      <td>12.09</td>\n",
       "      <td>10000</td>\n",
       "      <td>0.00</td>\n",
       "      <td>1</td>\n",
       "      <td>2024-10-11 03:04:23+00:00</td>\n",
       "      <td>2024-10-11 15:11:32+00:00</td>\n",
       "      <td>Clear</td>\n",
       "      <td>clear sky</td>\n",
       "      <td>2024-10-11 17:01:23+00:00</td>\n",
       "    </tr>\n",
       "  </tbody>\n",
       "</table>\n",
       "</div>"
      ],
      "text/plain": [
       "      city country  latitude  longitude  temperature  humidity  pressure  \\\n",
       "0  Mombasa      KE   -4.0547    39.6636        24.92        86      1016   \n",
       "1    Kwale      KE   -4.1738    39.4521        21.48        89      1016   \n",
       "2   Kilifi      KE   -3.6305    39.8499        25.07        86      1015   \n",
       "3     Lamu      KE   -2.2717    40.9020        25.29        87      1015   \n",
       "4  Garissa      KE   -0.4536    39.6401        28.62        52      1012   \n",
       "\n",
       "   wind_speed  visibility  rain  clouds                   sunrise  \\\n",
       "0        5.91       10000  0.22       2 2024-10-11 03:02:28+00:00   \n",
       "1        3.69       10000  0.00       2 2024-10-11 03:03:16+00:00   \n",
       "2        6.49       10000  0.00       1 2024-10-11 03:01:57+00:00   \n",
       "3        6.90       10000  0.00       8 2024-10-11 02:58:25+00:00   \n",
       "4       12.09       10000  0.00       1 2024-10-11 03:04:23+00:00   \n",
       "\n",
       "                     sunset weather_condition weather_description  \\\n",
       "0 2024-10-11 15:13:15+00:00              Rain          light rain   \n",
       "1 2024-10-11 15:14:10+00:00             Clear           clear sky   \n",
       "2 2024-10-11 15:12:18+00:00             Clear           clear sky   \n",
       "3 2024-10-11 15:07:24+00:00             Clear           clear sky   \n",
       "4 2024-10-11 15:11:32+00:00             Clear           clear sky   \n",
       "\n",
       "                   datetime  \n",
       "0 2024-10-11 17:00:37+00:00  \n",
       "1 2024-10-11 17:01:10+00:00  \n",
       "2 2024-10-11 17:01:12+00:00  \n",
       "3 2024-10-11 17:01:18+00:00  \n",
       "4 2024-10-11 17:01:23+00:00  "
      ]
     },
     "execution_count": 19,
     "metadata": {},
     "output_type": "execute_result"
    }
   ],
   "source": [
    "df.head()"
   ]
  },
  {
   "cell_type": "code",
   "execution_count": 20,
   "metadata": {},
   "outputs": [
    {
     "name": "stdout",
     "output_type": "stream",
     "text": [
      "<class 'pandas.core.frame.DataFrame'>\n",
      "RangeIndex: 34 entries, 0 to 33\n",
      "Data columns (total 16 columns):\n",
      " #   Column               Non-Null Count  Dtype              \n",
      "---  ------               --------------  -----              \n",
      " 0   city                 34 non-null     object             \n",
      " 1   country              34 non-null     object             \n",
      " 2   latitude             34 non-null     float64            \n",
      " 3   longitude            34 non-null     float64            \n",
      " 4   temperature          34 non-null     float64            \n",
      " 5   humidity             34 non-null     int64              \n",
      " 6   pressure             34 non-null     int64              \n",
      " 7   wind_speed           34 non-null     float64            \n",
      " 8   visibility           34 non-null     int64              \n",
      " 9   rain                 34 non-null     float64            \n",
      " 10  clouds               34 non-null     int64              \n",
      " 11  sunrise              34 non-null     datetime64[ns, UTC]\n",
      " 12  sunset               34 non-null     datetime64[ns, UTC]\n",
      " 13  weather_condition    34 non-null     object             \n",
      " 14  weather_description  34 non-null     object             \n",
      " 15  datetime             34 non-null     datetime64[ns, UTC]\n",
      "dtypes: datetime64[ns, UTC](3), float64(5), int64(4), object(4)\n",
      "memory usage: 4.4+ KB\n"
     ]
    }
   ],
   "source": [
    "df.info()"
   ]
  },
  {
   "cell_type": "code",
   "execution_count": 21,
   "metadata": {},
   "outputs": [
    {
     "data": {
      "text/plain": [
       "city                                object\n",
       "country                             object\n",
       "latitude                           float64\n",
       "longitude                          float64\n",
       "temperature                        float64\n",
       "humidity                             int64\n",
       "pressure                             int64\n",
       "wind_speed                         float64\n",
       "visibility                           int64\n",
       "rain                               float64\n",
       "clouds                               int64\n",
       "sunrise                datetime64[ns, UTC]\n",
       "sunset                 datetime64[ns, UTC]\n",
       "weather_condition                   object\n",
       "weather_description                 object\n",
       "datetime               datetime64[ns, UTC]\n",
       "dtype: object"
      ]
     },
     "execution_count": 21,
     "metadata": {},
     "output_type": "execute_result"
    }
   ],
   "source": [
    "df.dtypes"
   ]
  },
  {
   "cell_type": "code",
   "execution_count": 22,
   "metadata": {},
   "outputs": [
    {
     "data": {
      "text/plain": [
       "weather_condition\n",
       "Clouds    20\n",
       "Rain       7\n",
       "Clear      7\n",
       "Name: count, dtype: int64"
      ]
     },
     "execution_count": 22,
     "metadata": {},
     "output_type": "execute_result"
    }
   ],
   "source": [
    "df['weather_condition'].value_counts()"
   ]
  },
  {
   "cell_type": "code",
   "execution_count": 23,
   "metadata": {},
   "outputs": [
    {
     "data": {
      "text/plain": [
       "array(['Rain', 'Clear', 'Clouds'], dtype=object)"
      ]
     },
     "execution_count": 23,
     "metadata": {},
     "output_type": "execute_result"
    }
   ],
   "source": [
    "df['weather_condition'].unique()"
   ]
  },
  {
   "cell_type": "code",
   "execution_count": 24,
   "metadata": {},
   "outputs": [
    {
     "data": {
      "text/plain": [
       "weather_description\n",
       "broken clouds       11\n",
       "clear sky            7\n",
       "light rain           5\n",
       "few clouds           4\n",
       "scattered clouds     3\n",
       "overcast clouds      2\n",
       "moderate rain        2\n",
       "Name: count, dtype: int64"
      ]
     },
     "execution_count": 24,
     "metadata": {},
     "output_type": "execute_result"
    }
   ],
   "source": [
    "df['weather_description'].value_counts()"
   ]
  },
  {
   "cell_type": "code",
   "execution_count": 31,
   "metadata": {},
   "outputs": [
    {
     "data": {
      "text/plain": [
       "<seaborn.axisgrid.FacetGrid at 0x1ec958dd400>"
      ]
     },
     "execution_count": 31,
     "metadata": {},
     "output_type": "execute_result"
    },
    {
     "data": {
      "image/png": "[encoded data removed]",
      "text/plain": [
       "<Figure size 500x500 with 1 Axes>"
      ]
     },
     "metadata": {},
     "output_type": "display_data"
    }
   ],
   "source": [
    "sns.displot(df['temperature'],bins=20)"
   ]
  },
  {
   "cell_type": "code",
   "execution_count": 28,
   "metadata": {},
   "outputs": [
    {
     "data": {
      "text/plain": [
       "count    34.000000\n",
       "mean     21.690294\n",
       "std       4.621484\n",
       "min      13.820000\n",
       "25%      18.512500\n",
       "50%      21.065000\n",
       "75%      24.660000\n",
       "max      32.870000\n",
       "Name: temperature, dtype: float64"
      ]
     },
     "execution_count": 28,
     "metadata": {},
     "output_type": "execute_result"
    }
   ],
   "source": [
    "df['temperature'].describe()"
   ]
  },
  {
   "cell_type": "code",
   "execution_count": null,
   "metadata": {},
   "outputs": [],
   "source": []
  }
 ],
 "metadata": {
  "kernelspec": {
   "display_name": "base",
   "language": "python",
   "name": "python3"
  },
  "language_info": {
   "codemirror_mode": {
    "name": "ipython",
    "version": 3
   },
   "file_extension": ".py",
   "mimetype": "text/x-python",
   "name": "python",
   "nbconvert_exporter": "python",
   "pygments_lexer": "ipython3",
   "version": "3.12.4"
  }
 },
 "nbformat": 4,
 "nbformat_minor": 2
}
